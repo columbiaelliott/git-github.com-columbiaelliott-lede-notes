{
 "cells": [
  {
   "cell_type": "markdown",
   "metadata": {},
   "source": [
    "<h3 align=\"center\">Step 3 | Reviewing: dictionaries, lists, CSVs</h3>"
   ]
  },
  {
   "cell_type": "markdown",
   "metadata": {},
   "source": [
    "1) Print the 3rd element of a list called dogs."
   ]
  },
  {
   "cell_type": "code",
   "execution_count": 1,
   "metadata": {
    "collapsed": true
   },
   "outputs": [],
   "source": [
    "dogs=[\"dog A\", \"dog B\", \"dog C\"]"
   ]
  },
  {
   "cell_type": "code",
   "execution_count": 2,
   "metadata": {
    "collapsed": false
   },
   "outputs": [
    {
     "name": "stdout",
     "output_type": "stream",
     "text": [
      "dog C\n"
     ]
    }
   ],
   "source": [
    "#The list above shows three dogs, or three items in a list titled dogs\n",
    "#referencing the 3rd item would mean using the [2] since the list item starts at 0\n",
    "print dogs[2]"
   ]
  },
  {
   "cell_type": "markdown",
   "metadata": {},
   "source": [
    "2) What is the output of the following code?"
   ]
  },
  {
   "cell_type": "code",
   "execution_count": 3,
   "metadata": {
    "collapsed": false
   },
   "outputs": [
    {
     "name": "stdout",
     "output_type": "stream",
     "text": [
      "1 green\n",
      "2 green\n",
      "3 green\n",
      "4 green\n",
      "1 blue\n",
      "2 blue\n",
      "3 blue\n",
      "4 blue\n"
     ]
    }
   ],
   "source": [
    "numbers = [ 1, 2, 3, 4]\n",
    "#Numbers is a list of integers\n",
    "colors = [ \"green\", \"blue\" ]\n",
    "#Colors is a list of strings \n",
    "for color in colors:\n",
    "    #color begins the loop placeholder for the string list. \n",
    "    for number in numbers:\n",
    "        #number begins the loop placeholder for the integer list.\n",
    "        print number, color\n",
    "#Printing both placeholders one after there other will loop both of the lists until the values are exhausted. \n",
    "#This creates a nested loop that'll list all the values of each container concantenated on a line."
   ]
  },
  {
   "cell_type": "markdown",
   "metadata": {},
   "source": [
    "3) What command would you use to get the first 100 lines of data.csv, and save it into a new file named sample.csv?"
   ]
  },
  {
   "cell_type": "code",
   "execution_count": 4,
   "metadata": {
    "collapsed": true
   },
   "outputs": [],
   "source": [
    "# head wc -100 data.csv > sample.csv\n",
    "# wc in terminal means Word count, which lists the lines and data of the file given\n",
    "#-100 tells terminal to limit the word count function to the first 100 lines\n",
    "#head tells terminal to include the row headers, plus the 100 rows after that\n",
    "#The file name data.csv is referened (the terminal window must be in the directory of the file you're trying to access\n",
    "# > tells it to export or create a new file from the commands given, which will create a new file within the directory\n",
    "#named sample.csv"
   ]
  },
  {
   "cell_type": "markdown",
   "metadata": {},
   "source": [
    "This is a view of the file lists.csv, used for the questions below"
   ]
  },
  {
   "cell_type": "markdown",
   "metadata": {},
   "source": [
    "<style type=\"text/css\">\n",
    "\ttable.tableizer-table {\n",
    "\tborder: 1px solid #CCC; font-family: Arial, Helvetica, sans-serif;\n",
    "\tfont-size: 12px;\n",
    "} \n",
    ".tableizer-table td {\n",
    "\tpadding: 4px;\n",
    "\tmargin: 3px;\n",
    "\tborder: 1px solid #ccc;\n",
    "}\n",
    ".tableizer-table th {\n",
    "\tbackground-color: #104E8B; \n",
    "\tcolor: #FFF;\n",
    "\tfont-weight: bold;\n",
    "}\n",
    "</style><table class=\"tableizer-table\">\n",
    "<tr class=\"tableizer-firstrow\"><th>make</th><th>year</th><th>color</th></tr>\n",
    " <tr><td>Chevrolet</td><td>2011</td><td>black</td></tr>\n",
    " <tr><td>Honda</td><td>2010</td><td>red</td></tr>\n",
    " <tr><td>Honda</td><td>2013</td><td>black</td></tr>\n",
    " <tr><td>Toyota</td><td>2001</td><td>gold</td></tr>\n",
    "</table>"
   ]
  },
  {
   "cell_type": "markdown",
   "metadata": {},
   "source": [
    "4) What is missing from the lines below? (It isn't 100% necessary, but we use it for convenience)"
   ]
  },
  {
   "cell_type": "code",
   "execution_count": 6,
   "metadata": {
    "collapsed": false
   },
   "outputs": [
    {
     "ename": "NameError",
     "evalue": "name 'csv' is not defined",
     "output_type": "error",
     "traceback": [
      "\u001b[0;31m---------------------------------------------------------------------------\u001b[0m",
      "\u001b[0;31mNameError\u001b[0m                                 Traceback (most recent call last)",
      "\u001b[0;32m<ipython-input-6-5b2e378ae8a5>\u001b[0m in \u001b[0;36m<module>\u001b[0;34m()\u001b[0m\n\u001b[1;32m      1\u001b[0m \u001b[0;31m#In order to access csv.DictReader, one has to import the csv module first.\u001b[0m\u001b[0;34m\u001b[0m\u001b[0;34m\u001b[0m\u001b[0m\n\u001b[1;32m      2\u001b[0m \u001b[0mfile\u001b[0m \u001b[0;34m=\u001b[0m \u001b[0mopen\u001b[0m\u001b[0;34m(\u001b[0m\u001b[0;34m\"lists.csv\"\u001b[0m\u001b[0;34m)\u001b[0m\u001b[0;34m\u001b[0m\u001b[0m\n\u001b[0;32m----> 3\u001b[0;31m \u001b[0mcars\u001b[0m \u001b[0;34m=\u001b[0m \u001b[0mcsv\u001b[0m\u001b[0;34m.\u001b[0m\u001b[0mDictReader\u001b[0m\u001b[0;34m(\u001b[0m\u001b[0mfile\u001b[0m\u001b[0;34m)\u001b[0m\u001b[0;34m\u001b[0m\u001b[0m\n\u001b[0m",
      "\u001b[0;31mNameError\u001b[0m: name 'csv' is not defined"
     ]
    }
   ],
   "source": [
    "#In order to access csv.DictReader, one has to import the csv module first.\n",
    "file = open(\"lists.csv\")\n",
    "cars = csv.DictReader(file)"
   ]
  },
  {
   "cell_type": "code",
   "execution_count": 7,
   "metadata": {
    "collapsed": true
   },
   "outputs": [],
   "source": [
    "import csv\n",
    "file = open(\"lists.csv\")\n",
    "cars = csv.DictReader(file)"
   ]
  },
  {
   "cell_type": "markdown",
   "metadata": {},
   "source": [
    "5) Write a for loop to add up all of the years. Save it to a variable called total."
   ]
  },
  {
   "cell_type": "code",
   "execution_count": 8,
   "metadata": {
    "collapsed": false
   },
   "outputs": [
    {
     "ename": "TypeError",
     "evalue": "unsupported operand type(s) for +: 'int' and 'str'",
     "output_type": "error",
     "traceback": [
      "\u001b[0;31m---------------------------------------------------------------------------\u001b[0m",
      "\u001b[0;31mTypeError\u001b[0m                                 Traceback (most recent call last)",
      "\u001b[0;32m<ipython-input-8-a43438db6b33>\u001b[0m in \u001b[0;36m<module>\u001b[0;34m()\u001b[0m\n\u001b[1;32m      5\u001b[0m \u001b[0;32mfor\u001b[0m \u001b[0mcar\u001b[0m \u001b[0;32min\u001b[0m \u001b[0mcars\u001b[0m\u001b[0;34m:\u001b[0m\u001b[0;34m\u001b[0m\u001b[0m\n\u001b[1;32m      6\u001b[0m     \u001b[0;31m#total is your holding variable. so total = exisiting total + next matching value from the called list\u001b[0m\u001b[0;34m\u001b[0m\u001b[0;34m\u001b[0m\u001b[0m\n\u001b[0;32m----> 7\u001b[0;31m     \u001b[0mtotal\u001b[0m \u001b[0;34m=\u001b[0m \u001b[0mtotal\u001b[0m \u001b[0;34m+\u001b[0m \u001b[0mcar\u001b[0m\u001b[0;34m[\u001b[0m\u001b[0;34m'year'\u001b[0m\u001b[0;34m]\u001b[0m\u001b[0;34m\u001b[0m\u001b[0m\n\u001b[0m\u001b[1;32m      8\u001b[0m \u001b[0;31m#prints total or the summation of the queried loop after it's exhausted all the values in the file.\u001b[0m\u001b[0;34m\u001b[0m\u001b[0;34m\u001b[0m\u001b[0m\n\u001b[1;32m      9\u001b[0m \u001b[0;32mprint\u001b[0m \u001b[0mtotal\u001b[0m\u001b[0;34m\u001b[0m\u001b[0m\n",
      "\u001b[0;31mTypeError\u001b[0m: unsupported operand type(s) for +: 'int' and 'str'"
     ]
    }
   ],
   "source": [
    "total = 0\n",
    "#This creates an empty variable that will hold the counts.\n",
    "#Think of car as a row, so you can literally make your loops for row, and go row by row\n",
    "total = 0\n",
    "for car in cars:\n",
    "    #total is your holding variable. so total = exisiting total + next matching value from the called list\n",
    "    total = total + car['year']\n",
    "#prints total or the summation of the queried loop after it's exhausted all the values in the file.\n",
    "print total"
   ]
  },
  {
   "cell_type": "markdown",
   "metadata": {},
   "source": [
    "6) I'd like a new list called favorites that includes all cars that are black or produced after 2010. Write a for loop to create this list."
   ]
  },
  {
   "cell_type": "code",
   "execution_count": 9,
   "metadata": {
    "collapsed": false
   },
   "outputs": [
    {
     "name": "stdout",
     "output_type": "stream",
     "text": [
      "[]\n"
     ]
    }
   ],
   "source": [
    "favorites = []\n",
    "for car in cars:\n",
    "    if car in cars:\n",
    "        if car['color'] == 'black' or int(car['year']) > 2010:\n",
    "            favorites.append(car)\n",
    "print favorites\t"
   ]
  },
  {
   "cell_type": "code",
   "execution_count": 10,
   "metadata": {
    "collapsed": true
   },
   "outputs": [],
   "source": [
    "#HELP: I'm not sure why this isn't working?"
   ]
  },
  {
   "cell_type": "code",
   "execution_count": null,
   "metadata": {
    "collapsed": true
   },
   "outputs": [],
   "source": []
  }
 ],
 "metadata": {
  "kernelspec": {
   "display_name": "Python 2",
   "language": "python",
   "name": "python2"
  },
  "language_info": {
   "codemirror_mode": {
    "name": "ipython",
    "version": 2
   },
   "file_extension": ".py",
   "mimetype": "text/x-python",
   "name": "python",
   "nbconvert_exporter": "python",
   "pygments_lexer": "ipython2",
   "version": "2.7.9"
  }
 },
 "nbformat": 4,
 "nbformat_minor": 0
}
