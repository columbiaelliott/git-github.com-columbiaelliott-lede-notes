{
 "cells": [
  {
   "cell_type": "markdown",
   "metadata": {},
   "source": [
    "<h3 align=\"center\">Step 1 | Reviewing: variables, casting, if statements</h3>\n",
    "\n",
    "1) Given the following code, what is the output?"
   ]
  },
  {
   "cell_type": "code",
   "execution_count": 1,
   "metadata": {
    "collapsed": true
   },
   "outputs": [],
   "source": [
    "#This creates a variable, that when referenced, will return the value of the integer 5\n",
    "i = 5"
   ]
  },
  {
   "cell_type": "code",
   "execution_count": 4,
   "metadata": {
    "collapsed": false
   },
   "outputs": [
    {
     "name": "stdout",
     "output_type": "stream",
     "text": [
      "25\n",
      "5\n"
     ]
    }
   ],
   "source": [
    "#Python can perform math fuctions and are executed by using print\n",
    "print 5 * 5\n",
    "print i"
   ]
  },
  {
   "cell_type": "code",
   "execution_count": 6,
   "metadata": {
    "collapsed": false
   },
   "outputs": [
    {
     "name": "stdout",
     "output_type": "stream",
     "text": [
      "catdog\n",
      "cat dog\n"
     ]
    }
   ],
   "source": [
    "#Python can add or concatenate strings and integers. The merging of two strings can be done, merging them without a space. \n",
    "print \"cat\" + \"dog\"\n",
    "#Concatenating strings using a comma will create a space between the two strings or integers. Strings must be isolated within quotes or single quotes \n",
    "print \"cat\", \"dog\""
   ]
  },
  {
   "cell_type": "markdown",
   "metadata": {},
   "source": [
    "2a) The code below doesn't work. Why not?"
   ]
  },
  {
   "cell_type": "code",
   "execution_count": 7,
   "metadata": {
    "collapsed": false
   },
   "outputs": [
    {
     "ename": "TypeError",
     "evalue": "unsupported operand type(s) for +: 'int' and 'str'",
     "output_type": "error",
     "traceback": [
      "\u001b[0;31m---------------------------------------------------------------------------\u001b[0m",
      "\u001b[0;31mTypeError\u001b[0m                                 Traceback (most recent call last)",
      "\u001b[0;32m<ipython-input-7-c0ef10090692>\u001b[0m in \u001b[0;36m<module>\u001b[0;34m()\u001b[0m\n\u001b[0;32m----> 1\u001b[0;31m \u001b[0;32mprint\u001b[0m \u001b[0;36m5\u001b[0m \u001b[0;34m+\u001b[0m \u001b[0;34m\"5\"\u001b[0m\u001b[0;34m\u001b[0m\u001b[0m\n\u001b[0m",
      "\u001b[0;31mTypeError\u001b[0m: unsupported operand type(s) for +: 'int' and 'str'"
     ]
    }
   ],
   "source": [
    "print 5 + \"5\""
   ]
  },
  {
   "cell_type": "markdown",
   "metadata": {},
   "source": [
    "An integer cannot be added to a string, without it being converted, using the int(\"string\") method."
   ]
  },
  {
   "cell_type": "markdown",
   "metadata": {},
   "source": [
    "2b) There are several ways to make it work! Give two possible changes and what the output would be in each case."
   ]
  },
  {
   "cell_type": "code",
   "execution_count": 8,
   "metadata": {
    "collapsed": false
   },
   "outputs": [
    {
     "name": "stdout",
     "output_type": "stream",
     "text": [
      "10\n"
     ]
    }
   ],
   "source": [
    "#The int fuction can convert a string to an integer, allowing it to be added to another integer\n",
    "print 5 + int(\"5\")"
   ]
  },
  {
   "cell_type": "code",
   "execution_count": 10,
   "metadata": {
    "collapsed": false
   },
   "outputs": [
    {
     "name": "stdout",
     "output_type": "stream",
     "text": [
      "55\n"
     ]
    }
   ],
   "source": [
    "#Converting a integer to a string, can allow the string to be concatenated with another string\n",
    "print str(5) + \"5\""
   ]
  },
  {
   "cell_type": "markdown",
   "metadata": {},
   "source": [
    "4) Given the following code, what would the output be for:\n",
    "n = 0\n",
    "n = 10\n",
    "n = -1 \n",
    "n = 3\n",
    "n = -5"
   ]
  },
  {
   "cell_type": "code",
   "execution_count": 19,
   "metadata": {
    "collapsed": false
   },
   "outputs": [
    {
     "name": "stdout",
     "output_type": "stream",
     "text": [
      "0\n",
      "F\n",
      "H\n"
     ]
    }
   ],
   "source": [
    "n = 0\n",
    "print n\n",
    "\n",
    "if n > 0:\n",
    "    print \"A\"\n",
    "    if n >= 3:\n",
    "        print \"B\"\n",
    "        print \"C\"\n",
    "    elif n > 2:\n",
    "        print \"D\" # This is never executed\n",
    "    else:\n",
    "        print \"E\"\n",
    "elif n <1 and n > -2:\n",
    "    #Functions can check for two specific quanitifiers using the 'and' statement.\n",
    "    print \"F\"\n",
    "else:\n",
    "    #else will always do whatever is asked of it if the previous conditions have not yet been met\n",
    "    print \"G\"\n",
    "if n < 5:\n",
    "    print \"H\""
   ]
  },
  {
   "cell_type": "markdown",
   "metadata": {},
   "source": [
    "\tThis is the output for n = 0:\n",
    "\t\t0\n",
    "\t\tF\n",
    "\t\tH\n",
    "\n",
    "\tThis is the output for n = 10:\n",
    "\t\t10\n",
    "\t\tA\n",
    "\t\tB\n",
    "\t\tC\n",
    "\n",
    "\tThis is the output for n = -1:\n",
    "\t\t-1\n",
    "\t\tF\n",
    "\t\tH\n",
    "\n",
    "\tThis is the output for n = 3:\n",
    "\t\t3\n",
    "\t\tA\n",
    "\t\tB\n",
    "\t\tC\n",
    "\t\tH\n",
    "\n",
    "\tThis is the output for n = -5:\n",
    "\t\t-5\n",
    "\t\tG\n",
    "\t\tH"
   ]
  }
 ],
 "metadata": {
  "kernelspec": {
   "display_name": "Python 2",
   "language": "python",
   "name": "python2"
  },
  "language_info": {
   "codemirror_mode": {
    "name": "ipython",
    "version": 2
   },
   "file_extension": ".py",
   "mimetype": "text/x-python",
   "name": "python",
   "nbconvert_exporter": "python",
   "pygments_lexer": "ipython2",
   "version": "2.7.9"
  }
 },
 "nbformat": 4,
 "nbformat_minor": 0
}
