{
 "cells": [
  {
   "cell_type": "markdown",
   "metadata": {},
   "source": [
    "<h3 align=\"center\">Step 4 | Reviewing: dictionaries, lists, CSVs</h3>"
   ]
  },
  {
   "cell_type": "markdown",
   "metadata": {},
   "source": [
    "1) What's the output of the following lines?"
   ]
  },
  {
   "cell_type": "code",
   "execution_count": 1,
   "metadata": {
    "collapsed": false
   },
   "outputs": [
    {
     "name": "stdout",
     "output_type": "stream",
     "text": [
      "hello name\n",
      "hello Max\n"
     ]
    }
   ],
   "source": [
    "name = \"Max\"\n",
    "#Variable is name with a single stringed labeled Max\n",
    "print \"hello\", \"name\"\n",
    "#Printing \"hello\" is a string and the comma concatenates it to also print the next string, which happens to be name verbatim\n",
    "print \"hello\", name\n",
    "#Pringint name without quotes will reference the variable name"
   ]
  },
  {
   "cell_type": "markdown",
   "metadata": {},
   "source": [
    "2) What is the output of the following code? Which lines give you errors?"
   ]
  },
  {
   "cell_type": "code",
   "execution_count": 3,
   "metadata": {
    "collapsed": true
   },
   "outputs": [],
   "source": [
    "borough_name = 'Manhattan'\n",
    "z = [ 'Manhattan', 'Queens' ]\n",
    "x = { 'borough_name': 'Manhattan', 'population': 500 }\n",
    "y = {'Manhattan': 500,'Queens': 200}"
   ]
  },
  {
   "cell_type": "code",
   "execution_count": 4,
   "metadata": {
    "collapsed": false
   },
   "outputs": [
    {
     "name": "stdout",
     "output_type": "stream",
     "text": [
      "Manhattan\n",
      "500\n",
      "Manhattan\n"
     ]
    }
   ],
   "source": [
    "print x['borough_name']\n",
    "# print x[borough_name]#This is not in the dictionary as a key for x without the quotes.\n",
    "# print x[0]#This can only be done with a list and not a dictionary.\n",
    "# print y['borough_name'] #boro name is not a key in y dictionary\n",
    "print y[borough_name]\n",
    "# print y[0] #This can only be used in a list\n",
    "# print z['borough_name'] #This is no key for boro name in Z dictionary\n",
    "# print z[borough_name] #borough_name is in the x dictionary\n",
    "print z[0]"
   ]
  },
  {
   "cell_type": "markdown",
   "metadata": {},
   "source": [
    "3) We have a list called numbers, but we had an off-by-one error: add one to every element of the list, then sum the results. Do this in one line."
   ]
  },
  {
   "cell_type": "code",
   "execution_count": 5,
   "metadata": {
    "collapsed": false
   },
   "outputs": [
    {
     "data": {
      "text/plain": [
       "14"
      ]
     },
     "execution_count": 5,
     "metadata": {},
     "output_type": "execute_result"
    }
   ],
   "source": [
    "numbers = [1,2,3,4]\n",
    "#the loop is at the begining of the list comprehension\n",
    "sum(num +1 for num in numbers)"
   ]
  },
  {
   "cell_type": "markdown",
   "metadata": {},
   "source": [
    "4a) Given the following, write code to calculate how many murders we have in total."
   ]
  },
  {
   "cell_type": "code",
   "execution_count": 6,
   "metadata": {
    "collapsed": true
   },
   "outputs": [],
   "source": [
    "murders = { 'Albany': 23, 'Kings County': 10, 'Rochester': 7, 'Yonkers': 9 }"
   ]
  },
  {
   "cell_type": "code",
   "execution_count": 7,
   "metadata": {
    "collapsed": false
   },
   "outputs": [
    {
     "data": {
      "text/plain": [
       "49"
      ]
     },
     "execution_count": 7,
     "metadata": {},
     "output_type": "execute_result"
    }
   ],
   "source": [
    "#The .values functions will list all the values in a given dictionary.\n",
    "sum(murders.values())"
   ]
  },
  {
   "cell_type": "markdown",
   "metadata": {},
   "source": [
    "4b) Write code to calculate the percentage of the murders happened in Kings County."
   ]
  },
  {
   "cell_type": "code",
   "execution_count": 8,
   "metadata": {
    "collapsed": false
   },
   "outputs": [
    {
     "name": "stdout",
     "output_type": "stream",
     "text": [
      "0.204081632653\n"
     ]
    }
   ],
   "source": [
    "for key, value in murders.items():\n",
    "    if key == 'Kings County':\n",
    "        #this will list the value of kings county key, and divide it by the sum of the total values of the dictionary\n",
    "        print float(value) /sum(murders.values())"
   ]
  },
  {
   "cell_type": "code",
   "execution_count": null,
   "metadata": {
    "collapsed": true
   },
   "outputs": [],
   "source": []
  }
 ],
 "metadata": {
  "kernelspec": {
   "display_name": "Python 2",
   "language": "python",
   "name": "python2"
  },
  "language_info": {
   "codemirror_mode": {
    "name": "ipython",
    "version": 2
   },
   "file_extension": ".py",
   "mimetype": "text/x-python",
   "name": "python",
   "nbconvert_exporter": "python",
   "pygments_lexer": "ipython2",
   "version": "2.7.9"
  }
 },
 "nbformat": 4,
 "nbformat_minor": 0
}
