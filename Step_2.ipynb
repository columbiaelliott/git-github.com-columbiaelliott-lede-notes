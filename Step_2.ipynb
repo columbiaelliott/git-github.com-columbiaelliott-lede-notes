{
 "cells": [
  {
   "cell_type": "markdown",
   "metadata": {},
   "source": [
    "<h3 align=\"center\">Step 2 | Reviewing: conditionals, dictionaries, lists</h3>"
   ]
  },
  {
   "cell_type": "markdown",
   "metadata": {},
   "source": [
    "1) What two errors can you spot below?"
   ]
  },
  {
   "cell_type": "code",
   "execution_count": 1,
   "metadata": {
    "collapsed": false
   },
   "outputs": [
    {
     "ename": "SyntaxError",
     "evalue": "invalid syntax (<ipython-input-1-7177398c41a4>, line 4)",
     "output_type": "error",
     "traceback": [
      "\u001b[0;36m  File \u001b[0;32m\"<ipython-input-1-7177398c41a4>\"\u001b[0;36m, line \u001b[0;32m4\u001b[0m\n\u001b[0;31m    elif n = 2:\u001b[0m\n\u001b[0m           ^\u001b[0m\n\u001b[0;31mSyntaxError\u001b[0m\u001b[0;31m:\u001b[0m invalid syntax\n"
     ]
    }
   ],
   "source": [
    "n = 2;\n",
    "if n < 2:\n",
    "  print \"Small\"\n",
    "elif n = 2:\n",
    "  print \"Medium\"\n",
    "else print \"Large\""
   ]
  },
  {
   "cell_type": "markdown",
   "metadata": {},
   "source": [
    "There are actually three errors here. Follow the notations to figure out how to perform the functions correctly."
   ]
  },
  {
   "cell_type": "code",
   "execution_count": 2,
   "metadata": {
    "collapsed": false
   },
   "outputs": [
    {
     "name": "stdout",
     "output_type": "stream",
     "text": [
      "Medium\n"
     ]
    }
   ],
   "source": [
    "n = 2 # ; is NOT necessary in Python\n",
    "if n < 2:\n",
    "    print \"Small\"\n",
    "elif n == 2: # == NOT =\n",
    "    print \"Medium\"\n",
    "else: # else: NOT else\n",
    "    print \"Large\""
   ]
  },
  {
   "cell_type": "markdown",
   "metadata": {},
   "source": [
    "2) Given the following code, '11238' is a _____ and 23 is a _________.\n",
    "\n",
    "{ '11238': 23, '10011': 47 }"
   ]
  },
  {
   "cell_type": "code",
   "execution_count": 3,
   "metadata": {
    "collapsed": true
   },
   "outputs": [],
   "source": [
    "#Given the following code, '11238' is a key and 23 is a value"
   ]
  },
  {
   "cell_type": "markdown",
   "metadata": {},
   "source": [
    "3) How would you add a 'low' of 54 to the following dictionary?"
   ]
  },
  {
   "cell_type": "code",
   "execution_count": 5,
   "metadata": {
    "collapsed": true
   },
   "outputs": [],
   "source": [
    "weather = { 'high':66, 'appearance':'cloudy' }\n",
    "#weather['new_key'] = ##New_Value\n",
    "weather['low'] = 54"
   ]
  },
  {
   "cell_type": "markdown",
   "metadata": {},
   "source": [
    "4) How can we easily get the total of the list below? How about a count of how many elements are in the list?"
   ]
  },
  {
   "cell_type": "code",
   "execution_count": 6,
   "metadata": {
    "collapsed": true
   },
   "outputs": [],
   "source": [
    "numbers = [ 1, 2, 3, 4, 5, 6, 7]"
   ]
  },
  {
   "cell_type": "code",
   "execution_count": 7,
   "metadata": {
    "collapsed": false
   },
   "outputs": [
    {
     "name": "stdout",
     "output_type": "stream",
     "text": [
      "28\n",
      "7\n"
     ]
    }
   ],
   "source": [
    "#The sum function will sum up the numbers of a list if they're integers.\n",
    "print sum(numbers)\n",
    "#The len function will return the number of items in a list\n",
    "print len(numbers)"
   ]
  },
  {
   "cell_type": "markdown",
   "metadata": {},
   "source": [
    "5) Print the 3rd element of a list named dogs. "
   ]
  },
  {
   "cell_type": "code",
   "execution_count": 8,
   "metadata": {
    "collapsed": false
   },
   "outputs": [
    {
     "name": "stdout",
     "output_type": "stream",
     "text": [
      "Shih Tzu\n"
     ]
    }
   ],
   "source": [
    "dogs = ['Labrador Retriever', 'Rottweiler', 'Shih Tzu', 'Miniature Schnauzer', 'Lhasa Apso', 'Yorkshire Terrier', 'Bulldog', 'Dobermann Pinscher', 'Bull Terrier', 'Weimaraner', 'Pug']\n",
    "#In a list, each position on that list is defined by a [#] so list[0] will return the first item in the list as the list numbers start from 0, and work their way up sequentially.\n",
    "#The number 2 will return the 3rd item in the list.\n",
    "print dogs[2]"
   ]
  },
  {
   "cell_type": "markdown",
   "metadata": {},
   "source": [
    "5a) Given the following dictionary, how can we get a list of all three ZIP codes?"
   ]
  },
  {
   "cell_type": "code",
   "execution_count": 9,
   "metadata": {
    "collapsed": true
   },
   "outputs": [],
   "source": [
    "data = { '11238': 23, '10011': 47, '10011': 10 }"
   ]
  },
  {
   "cell_type": "code",
   "execution_count": 10,
   "metadata": {
    "collapsed": false
   },
   "outputs": [
    {
     "name": "stdout",
     "output_type": "stream",
     "text": [
      "['11238', '10011']\n"
     ]
    }
   ],
   "source": [
    "#printing the list_name.keys() will display all the keys within that list. Doing the same for .values() will print all the values\n",
    "print data.keys()"
   ]
  },
  {
   "cell_type": "code",
   "execution_count": 11,
   "metadata": {
    "collapsed": true
   },
   "outputs": [],
   "source": [
    "#Notice how there are two duplicate values? It will only print one of the keys once, despite the duplicate values."
   ]
  },
  {
   "cell_type": "markdown",
   "metadata": {},
   "source": [
    "5b) Write a for loop that prints all three zip codes on separate lines. "
   ]
  },
  {
   "cell_type": "code",
   "execution_count": 12,
   "metadata": {
    "collapsed": false
   },
   "outputs": [
    {
     "name": "stdout",
     "output_type": "stream",
     "text": [
      "11238\n",
      "10011\n"
     ]
    }
   ],
   "source": [
    "#A for loop will begin using a placeholder that will store the values to be looped in. In this case, we're telling it to reference the keys within the dictionary 'data'. The loop will cause the variables to be listed one at a time until the values within the dictionary are exhausted.\n",
    "for key in data.keys():\n",
    "    print key"
   ]
  },
  {
   "cell_type": "markdown",
   "metadata": {},
   "source": [
    "6) Given the following list, add together any numbers greater than 10."
   ]
  },
  {
   "cell_type": "code",
   "execution_count": 13,
   "metadata": {
    "collapsed": true
   },
   "outputs": [],
   "source": [
    "values = [20, 30 ,10, 5, 99]"
   ]
  },
  {
   "cell_type": "code",
   "execution_count": 14,
   "metadata": {
    "collapsed": false
   },
   "outputs": [
    {
     "name": "stdout",
     "output_type": "stream",
     "text": [
      "149\n"
     ]
    }
   ],
   "source": [
    "#One way to do this is to create a list to hold the values for your conditional\n",
    "#Use a for loop to tell it to add the list items into \n",
    "#One option is to create an empty list to toss items into. This list here is bigvalues.\n",
    "bigvalues = []\n",
    "for v in values:\n",
    "    #this creates the holder v, which will hold any items that are greater than 10\n",
    "    if 10 < v:\n",
    "        bigvalues.append(v)\n",
    "#This prints the sum of values.\n",
    "print sum(bigvalues)"
   ]
  },
  {
   "cell_type": "code",
   "execution_count": null,
   "metadata": {
    "collapsed": true
   },
   "outputs": [],
   "source": []
  }
 ],
 "metadata": {
  "kernelspec": {
   "display_name": "Python 2",
   "language": "python",
   "name": "python2"
  },
  "language_info": {
   "codemirror_mode": {
    "name": "ipython",
    "version": 2
   },
   "file_extension": ".py",
   "mimetype": "text/x-python",
   "name": "python",
   "nbconvert_exporter": "python",
   "pygments_lexer": "ipython2",
   "version": "2.7.9"
  }
 },
 "nbformat": 4,
 "nbformat_minor": 0
}
